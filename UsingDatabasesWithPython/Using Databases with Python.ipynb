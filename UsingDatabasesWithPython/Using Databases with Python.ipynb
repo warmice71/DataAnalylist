{
 "cells": [
  {
   "cell_type": "markdown",
   "id": "bf6f4dca",
   "metadata": {},
   "source": [
    "#  Object Oriented Programing (Basics)"
   ]
  },
  {
   "cell_type": "code",
   "execution_count": 1,
   "id": "c0c284de",
   "metadata": {},
   "outputs": [
    {
     "name": "stdout",
     "output_type": "stream",
     "text": [
      "so far 1\n",
      "so far 2\n",
      "so far 3\n",
      "so far 4\n",
      "so far 5\n"
     ]
    }
   ],
   "source": [
    "class PartyAnimal:\n",
    "    x = 0\n",
    "\n",
    "    def party(self):\n",
    "        self.x = self.x + 1\n",
    "        print(\"so far\", self.x)\n",
    "\n",
    "an = PartyAnimal()\n",
    "\n",
    "an.party()\n",
    "an.party()\n",
    "an.party()\n",
    "an.party()\n",
    "an.party()"
   ]
  },
  {
   "cell_type": "code",
   "execution_count": 2,
   "id": "f346637f",
   "metadata": {},
   "outputs": [
    {
     "data": {
      "text/plain": [
       "['__class__',\n",
       " '__delattr__',\n",
       " '__dict__',\n",
       " '__dir__',\n",
       " '__doc__',\n",
       " '__eq__',\n",
       " '__format__',\n",
       " '__ge__',\n",
       " '__getattribute__',\n",
       " '__gt__',\n",
       " '__hash__',\n",
       " '__init__',\n",
       " '__init_subclass__',\n",
       " '__le__',\n",
       " '__lt__',\n",
       " '__module__',\n",
       " '__ne__',\n",
       " '__new__',\n",
       " '__reduce__',\n",
       " '__reduce_ex__',\n",
       " '__repr__',\n",
       " '__setattr__',\n",
       " '__sizeof__',\n",
       " '__str__',\n",
       " '__subclasshook__',\n",
       " '__weakref__',\n",
       " 'party',\n",
       " 'x']"
      ]
     },
     "execution_count": 2,
     "metadata": {},
     "output_type": "execute_result"
    }
   ],
   "source": [
    "dir(an)"
   ]
  },
  {
   "cell_type": "code",
   "execution_count": 6,
   "id": "8d8e8f1d",
   "metadata": {},
   "outputs": [
    {
     "name": "stdout",
     "output_type": "stream",
     "text": [
      "I am constructed\n",
      "so far 1\n",
      "so far 2\n",
      "so far 3\n",
      "so far 4\n",
      "so far 5\n",
      "I am destructed 5\n",
      "an contains 42\n"
     ]
    }
   ],
   "source": [
    "class PartyAnimal:\n",
    "    x = 0\n",
    "\n",
    "    def __init__(self): #it is typically used to set up variables\n",
    "        print('I am constructed')\n",
    "\n",
    "    def party(self):\n",
    "        self.x = self.x + 1\n",
    "        print(\"so far\", self.x)\n",
    "\n",
    "    def __del__(self): #it is seldom used\n",
    "        print('I am destructed', self.x)\n",
    "\n",
    "an = PartyAnimal()\n",
    "\n",
    "an.party()\n",
    "an.party()\n",
    "an.party()\n",
    "an.party()\n",
    "an.party()\n",
    "\n",
    "an = 42\n",
    "print('an contains', an)\n"
   ]
  },
  {
   "cell_type": "code",
   "execution_count": 9,
   "id": "e8f884f6",
   "metadata": {},
   "outputs": [
    {
     "name": "stdout",
     "output_type": "stream",
     "text": [
      "Sally constructed\n",
      "Jim constructed\n",
      "Sally party count 1\n",
      "Jim party count 1\n",
      "Sally party count 2\n"
     ]
    }
   ],
   "source": [
    "class PartyAnimal:\n",
    "   x = 0\n",
    "   name = ''\n",
    "   def __init__(self, nam):\n",
    "     self.name = nam\n",
    "     print(self.name,'constructed')\n",
    "\n",
    "   def party(self) :\n",
    "     self.x = self.x + 1\n",
    "     print(self.name,'party count',self.x)\n",
    "\n",
    "s = PartyAnimal('Sally')\n",
    "j = PartyAnimal('Jim')\n",
    "\n",
    "s.party()\n",
    "j.party()\n",
    "s.party()\n"
   ]
  },
  {
   "cell_type": "code",
   "execution_count": 14,
   "id": "100a3b86",
   "metadata": {},
   "outputs": [
    {
     "name": "stdout",
     "output_type": "stream",
     "text": [
      "Sally constructed\n",
      "Sally party count 1\n",
      "Jim constructed\n",
      "Jim party count 1\n",
      "Jim party count 2\n",
      "Jim points 6\n",
      "['__class__', '__delattr__', '__dict__', '__dir__', '__doc__', '__eq__', '__format__', '__ge__', '__getattribute__', '__gt__', '__hash__', '__init__', '__init_subclass__', '__le__', '__lt__', '__module__', '__ne__', '__new__', '__reduce__', '__reduce_ex__', '__repr__', '__setattr__', '__sizeof__', '__str__', '__subclasshook__', '__weakref__', 'name', 'party', 'points', 'six', 'x']\n"
     ]
    }
   ],
   "source": [
    "class PartyAnimal:\n",
    "   x = 0\n",
    "   name = ''\n",
    "   def __init__(self, nam):\n",
    "     self.name = nam\n",
    "     print(self.name,'constructed')\n",
    "\n",
    "   def party(self) :\n",
    "     self.x = self.x + 1\n",
    "     print(self.name,'party count',self.x)\n",
    "\n",
    "class CricketFan(PartyAnimal):\n",
    "   points = 0\n",
    "   def six(self):\n",
    "      self.points = self.points + 6\n",
    "      self.party()\n",
    "      print(self.name,\"points\",self.points)\n",
    "\n",
    "s = PartyAnimal(\"Sally\")\n",
    "s.party()\n",
    "j = CricketFan(\"Jim\")\n",
    "j.party()\n",
    "j.six()\n",
    "print(dir(j))\n"
   ]
  },
  {
   "cell_type": "code",
   "execution_count": 13,
   "id": "5c03ca41",
   "metadata": {},
   "outputs": [
    {
     "name": "stdout",
     "output_type": "stream",
     "text": [
      "Sally constructed\n",
      "Sally party count 1\n",
      "Jim constructed\n",
      "Jim party count 1\n",
      "Jim party count 2\n",
      "Jim points 7\n",
      "['__class__', '__delattr__', '__dict__', '__dir__', '__doc__', '__eq__', '__format__', '__ge__', '__getattribute__', '__gt__', '__hash__', '__init__', '__init_subclass__', '__le__', '__lt__', '__module__', '__ne__', '__new__', '__reduce__', '__reduce_ex__', '__repr__', '__setattr__', '__sizeof__', '__str__', '__subclasshook__', '__weakref__', 'name', 'party', 'points', 'touchdown', 'x']\n"
     ]
    }
   ],
   "source": [
    "class PartyAnimal:\n",
    "   x = 0\n",
    "   name = ''\n",
    "   def __init__(self, nam):\n",
    "     self.name = nam\n",
    "     print(self.name,'constructed')\n",
    "\n",
    "   def party(self) :\n",
    "     self.x = self.x + 1\n",
    "     print(self.name,'party count',self.x)\n",
    "\n",
    "class FootballFan(PartyAnimal):\n",
    "   points = 0\n",
    "   def touchdown(self):\n",
    "      self.points = self.points + 7\n",
    "      self.party()\n",
    "      print(self.name,\"points\",self.points)\n",
    "\n",
    "s = PartyAnimal(\"Sally\")\n",
    "s.party()\n",
    "j = FootballFan(\"Jim\")\n",
    "j.party()\n",
    "j.touchdown()\n",
    "print(dir(j))\n"
   ]
  },
  {
   "cell_type": "markdown",
   "id": "9c911cf3",
   "metadata": {},
   "source": [
    "# Basic SQL"
   ]
  },
  {
   "cell_type": "code",
   "execution_count": 43,
   "id": "b5506829",
   "metadata": {},
   "outputs": [],
   "source": [
    "import os\n",
    "import mysql.connector"
   ]
  },
  {
   "cell_type": "code",
   "execution_count": 47,
   "id": "3cc4378a",
   "metadata": {},
   "outputs": [],
   "source": [
    "user_name = os.environ.get('DB_USER')\n",
    "passwd = os.environ.get('DB_PASS')"
   ]
  },
  {
   "cell_type": "code",
   "execution_count": 48,
   "id": "2d04277d",
   "metadata": {},
   "outputs": [],
   "source": [
    "connection = mysql.connector.connect(\n",
    "  host=\"localhost\",\n",
    "  user=user_name,\n",
    "  password=passwd\n",
    ")"
   ]
  },
  {
   "cell_type": "code",
   "execution_count": 49,
   "id": "db30ee0d",
   "metadata": {},
   "outputs": [
    {
     "name": "stdout",
     "output_type": "stream",
     "text": [
      "Succesfully Connected\n"
     ]
    }
   ],
   "source": [
    "if connection.is_connected():\n",
    "    print(\"Succesfully Connected\")\n",
    "else:\n",
    "    print(\"Not Connected\")"
   ]
  },
  {
   "cell_type": "code",
   "execution_count": 51,
   "id": "6348d1a7",
   "metadata": {},
   "outputs": [
    {
     "data": {
      "text/plain": [
       "<mysql.connector.connection.MySQLConnection at 0x2365fde6ac0>"
      ]
     },
     "execution_count": 51,
     "metadata": {},
     "output_type": "execute_result"
    }
   ],
   "source": [
    "connection"
   ]
  },
  {
   "cell_type": "code",
   "execution_count": 52,
   "id": "0fab00d2",
   "metadata": {},
   "outputs": [],
   "source": [
    "mycursor = mydb.cursor()\n",
    "mycursor.execute(\"CREATE DATABASE python_sql\")"
   ]
  }
 ],
 "metadata": {
  "kernelspec": {
   "display_name": "Python 3 (ipykernel)",
   "language": "python",
   "name": "python3"
  },
  "language_info": {
   "codemirror_mode": {
    "name": "ipython",
    "version": 3
   },
   "file_extension": ".py",
   "mimetype": "text/x-python",
   "name": "python",
   "nbconvert_exporter": "python",
   "pygments_lexer": "ipython3",
   "version": "3.9.2"
  },
  "widgets": {
   "application/vnd.jupyter.widget-state+json": {
    "state": {},
    "version_major": 2,
    "version_minor": 0
   }
  }
 },
 "nbformat": 4,
 "nbformat_minor": 5
}
